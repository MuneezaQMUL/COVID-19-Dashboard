{
 "cells": [
  {
   "cell_type": "markdown",
   "metadata": {},
   "source": [
    "[DIY Disease Tracking Dashboard Kit](https://github.com/fsmeraldi/diy-covid19dash) (C) Fabrizio Smeraldi, 2020,2024 ([f.smeraldi@qmul.ac.uk](mailto:f.smeraldi@qmul.ac.uk) - [web](http://www.eecs.qmul.ac.uk/~fabri/)). This notebook is released under the [GNU GPLv3.0 or later](https://www.gnu.org/licenses/)."
   ]
  },
  {
   "cell_type": "markdown",
   "metadata": {},
   "source": [
    "# Covid-19 Vaccination Tracking Dashboard"
   ]
  },
  {
   "cell_type": "markdown",
   "metadata": {},
   "source": [
    "In this assignment I have developed a simple dashboard which downloads and displays Covid-19 data from the UK Health Security Agency (UKHSA)\n",
    "dashboard. This dashboard presents and compares the number of Covid-19 vaccinations administered during the spring and autumn seasons of 2023 and 2024. It's interesting to see the changing trend in vaccination doses during this period."
   ]
  },
  {
   "cell_type": "code",
   "execution_count": 8,
   "metadata": {},
   "outputs": [],
   "source": [
    "from IPython.display import clear_output\n",
    "import ipywidgets as wdg\n",
    "import pandas as pd\n",
    "import numpy as np\n",
    "import matplotlib.pyplot as plt\n",
    "import requests\n",
    "import time\n",
    "import json"
   ]
  },
  {
   "cell_type": "code",
   "execution_count": 9,
   "metadata": {},
   "outputs": [],
   "source": [
    "%matplotlib inline\n",
    "# make figures larger\n",
    "plt.rcParams['figure.dpi'] = 100"
   ]
  },
  {
   "cell_type": "code",
   "execution_count": 10,
   "metadata": {},
   "outputs": [],
   "source": [
    "# Initialize the dictionary to store all JSON data\n",
    "jsondata = {}\n",
    "\n",
    "# Load each JSON file and store its data in the dictionary with a specific key\n",
    "with open(\"spring_doses_2023.json\", \"rt\") as infile:\n",
    "    jsondata['spring_doses_2023'] = json.load(infile)\n",
    "\n",
    "with open(\"spring_doses_2024.json\", \"rt\") as infile:\n",
    "    jsondata['spring_doses_2024'] = json.load(infile)\n",
    "\n",
    "with open(\"autumn_doses_2023.json\", \"rt\") as infile:\n",
    "    jsondata['autumn_doses_2023'] = json.load(infile)\n",
    "\n",
    "with open(\"autumn_doses_2024.json\", \"rt\") as infile:\n",
    "    jsondata['autumn_doses_2024'] = json.load(infile)"
   ]
  },
  {
   "cell_type": "code",
   "execution_count": 11,
   "metadata": {},
   "outputs": [],
   "source": [
    "def wrangle_data(rawdata):\n",
    "    \"\"\"Parameters: rawdata - data from JSON files or API call. Returns a DataFrame.\"\"\"\n",
    "    \n",
    "    data = {}  # Initialize the dictionary to hold wrangled data\n",
    "    \n",
    "    # Iterate through each dataset in rawdata\n",
    "    for dataset_name, dataset in rawdata.items():  \n",
    "        for entry in dataset:\n",
    "            date = entry['date']\n",
    "            metric = entry['metric']\n",
    "            value = entry['metric_value']\n",
    "            \n",
    "            if date not in data:\n",
    "                data[date] = {}  # Create a new entry for this date\n",
    "                \n",
    "            # Store the value for this metric on this date\n",
    "            data[date][metric] = value\n",
    "    \n",
    "    # Convert the nested dictionary into a DataFrame\n",
    "    df = pd.DataFrame.from_dict(data, orient='index')\n",
    "    \n",
    "    # Optional: Sort the DataFrame by date\n",
    "    df.index = pd.to_datetime(df.index)  # Convert date strings to datetime objects\n",
    "    df.sort_index(inplace=True)\n",
    "    \n",
    "    return df  # Return the prepared DataFrame\n",
    "\n",
    "# Call the function directly on the loaded JSON data\n",
    "df = wrangle_data(jsondata)"
   ]
  },
  {
   "cell_type": "markdown",
   "metadata": {},
   "source": [
    "## Refresh the Data"
   ]
  },
  {
   "cell_type": "markdown",
   "metadata": {},
   "source": [
    "Please click on the button below if you would like to refresh the data shown in the graphs. Please note that the data may appear unchanged as new data is not updated very regularly."
   ]
  },
  {
   "cell_type": "code",
   "execution_count": 12,
   "metadata": {},
   "outputs": [
    {
     "data": {
      "application/vnd.jupyter.widget-view+json": {
       "model_id": "7b6c4b89716742d9b93afdf54d66f7dc",
       "version_major": 2,
       "version_minor": 0
      },
      "text/plain": [
       "Button(button_style='success', description='Refresh data', icon='refresh', style=ButtonStyle(), tooltip='Click…"
      ]
     },
     "metadata": {},
     "output_type": "display_data"
    }
   ],
   "source": [
    "# API access function. This will be called when the button is clicked.\n",
    "def access_api(button):\n",
    "    try:\n",
    "        # Make API calls and check their status\n",
    "        endpoints = [\n",
    "            \"https://api.ukhsa-dashboard.data.gov.uk/themes/infectious_disease/sub_themes/respiratory/topics/COVID-19/geography_types/Nation/geographies/England/metrics/COVID-19_vaccinations_spring23_dosesByDay\",\n",
    "            \"https://api.ukhsa-dashboard.data.gov.uk/themes/infectious_disease/sub_themes/respiratory/topics/COVID-19/geography_types/Nation/geographies/England/metrics/COVID-19_vaccinations_spring24_dosesByDay\",\n",
    "            \"https://api.ukhsa-dashboard.data.gov.uk/themes/infectious_disease/sub_themes/respiratory/topics/COVID-19/geography_types/Nation/geographies/England/metrics/COVID-19_vaccinations_autumn23_dosesByDay\",\n",
    "            \"https://api.ukhsa-dashboard.data.gov.uk/themes/infectious_disease/sub_themes/respiratory/topics/COVID-19/geography_types/Nation/geographies/England/metrics/COVID-19_vaccinations_autumn24_dosesByDay\"\n",
    "        ]\n",
    "        \n",
    "        for url in endpoints:\n",
    "            response = requests.get(url)\n",
    "            response.raise_for_status()  # Raise an error if the request fails\n",
    "            \n",
    "        # Update button attributes on success\n",
    "        button.icon = \"check\"\n",
    "        button.description = \"Data refreshed\"\n",
    "        button.disabled = True\n",
    "    \n",
    "    except requests.exceptions.RequestException as e:\n",
    "        # Handle any request exceptions\n",
    "        button.icon = \"times\"\n",
    "        button.description = \"Refresh failed\"\n",
    "        print(f\"Error: {e}\")\n",
    "\n",
    "# Create the button\n",
    "apibutton = wdg.Button(\n",
    "    description=\"Refresh data\",\n",
    "    disabled=False,\n",
    "    button_style=\"success\",  # 'success', 'info', 'warning', 'danger', or ''\n",
    "    tooltip=\"Click to refresh the data\",\n",
    "    icon=\"refresh\"  # (FontAwesome names without the `fa-` prefix)\n",
    ")\n",
    "\n",
    "# Register the callback function with the button\n",
    "apibutton.on_click(access_api)\n",
    "\n",
    "# Display the button\n",
    "display(apibutton)"
   ]
  },
  {
   "cell_type": "markdown",
   "metadata": {},
   "source": [
    "## Vaccination Comparison Graph"
   ]
  },
  {
   "cell_type": "markdown",
   "metadata": {},
   "source": [
    "This graph represents the different vaccination doses given in the seasons of spring and autumn for the years 2023 and 2024. Select from the list to see a single parameter; to see them all at the same time, select all the parameters in the list provided."
   ]
  },
  {
   "cell_type": "code",
   "execution_count": 13,
   "metadata": {},
   "outputs": [
    {
     "data": {
      "application/vnd.jupyter.widget-view+json": {
       "model_id": "51034d70295448cca99bf457d4002c5e",
       "version_major": 2,
       "version_minor": 0
      },
      "text/plain": [
       "HBox(children=(SelectMultiple(description='Stats:', index=(0, 1, 2, 3), options=('spring_doses_2023', 'spring_…"
      ]
     },
     "metadata": {},
     "output_type": "display_data"
    },
    {
     "data": {
      "application/vnd.jupyter.widget-view+json": {
       "model_id": "00c340071c0c4fb2843ae92110e58014",
       "version_major": 2,
       "version_minor": 0
      },
      "text/plain": [
       "Output()"
      ]
     },
     "metadata": {},
     "output_type": "display_data"
    }
   ],
   "source": [
    "def plot_graph(graph):\n",
    "    \"\"\" Our sample graph plotting function \"\"\"\n",
    "    df[graph].plot()\n",
    "    plt.show() # important! update won't work properly without this\n",
    "\n",
    "timeseriesdf=pd.read_pickle(\"timeseriesdf.pkl\")\n",
    "\n",
    "series=wdg.SelectMultiple(\n",
    "    options=['spring_doses_2023','spring_doses_2024','autumn_doses_2023','autumn_doses_2024'],\n",
    "    value=['spring_doses_2023','spring_doses_2024','autumn_doses_2023','autumn_doses_2024'],\n",
    "    rows=4,\n",
    "    description='Stats:',\n",
    "    disabled=False\n",
    ")\n",
    "\n",
    "scale=wdg.RadioButtons(\n",
    "    options=['linear', 'log'],\n",
    "#   value='pineapple', # Defaults to 'pineapple'\n",
    "#   layout={'width': 'max-content'}, # If the items' names are long\n",
    "    description='Scale:',\n",
    "    disabled=False\n",
    ")\n",
    "\n",
    "# try replacing HBox with a VBox\n",
    "controls=wdg.HBox([series, scale])\n",
    "\n",
    "def timeseries_graph(gcols, gscale):\n",
    "    if gscale=='linear':\n",
    "        logscale=False\n",
    "    else:\n",
    "        logscale=True\n",
    "    ncols=len(gcols)\n",
    "    if ncols>0:\n",
    "        timeseriesdf[list(gcols)].plot(logy=logscale)\n",
    "        plt.show() # important - graphs won't update if this is missing \n",
    "    else:\n",
    "        print(\"Click to select data for graph\")\n",
    "        print(\"(CTRL-Click to select more than one category)\")\n",
    "\n",
    "# keep calling timeseries_graph(gcols=value_of_series, gscale=value_of_scale); \n",
    "# capture output in widget graph   \n",
    "graph=wdg.interactive_output(timeseries_graph, {'gcols': series, 'gscale': scale})\n",
    "\n",
    "display(controls, graph)"
   ]
  },
  {
   "cell_type": "markdown",
   "metadata": {},
   "source": [
    "**Author and License** Made by: Muneeza Farooq Qasim (ID: 240221988 ec24780@qmul.ac.uk) Also Acknowledgement of sources and the conditions of the license: \"Based on UK Government [data](https://ukhsa-dashboard.data.gov.uk/) published by the [UK Health Security Agency](https://www.gov.uk/government/organisations/uk-health-security-agency) and on the [DIY Disease Tracking Dashboard Kit](https://github.com/fsmeraldi/diy-covid19dash) by Fabrizio Smeraldi. Released under the [GNU GPLv3.0 or later](https://www.gnu.org/licenses/).\""
   ]
  }
 ],
 "metadata": {
  "kernelspec": {
   "display_name": "Python 3 (ipykernel)",
   "language": "python",
   "name": "python3"
  },
  "language_info": {
   "codemirror_mode": {
    "name": "ipython",
    "version": 3
   },
   "file_extension": ".py",
   "mimetype": "text/x-python",
   "name": "python",
   "nbconvert_exporter": "python",
   "pygments_lexer": "ipython3",
   "version": "3.11.9"
  }
 },
 "nbformat": 4,
 "nbformat_minor": 4
}
